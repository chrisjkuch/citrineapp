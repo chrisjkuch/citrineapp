{
 "cells": [
  {
   "cell_type": "markdown",
   "metadata": {},
   "source": [
    "## Properties of inorganic chemical precursors\n",
    "\n",
    "This Jupyter notebook cleans data imported from the CRC Handbook of Chemistry and Physics, 85th edition related to the solubility of various inorganic chemical compounds. It then attempts to visualize general trends about water solubility of various chemicals and match them with well-known solubility rules.\n",
    "\n",
    "### Background\n",
    "\n",
    "In my research, successful synthesis of single-phase oxide materials often depends on the chemical homogeneity of the precursor powder. The best method to obtain high homogeneity is often water-based synthesis where chemical precursors are dissolved and chelated to form a gel with atomic-level mixing of constituent elements. I often refer to the CRC Handbook to determine whether water-soluble precursors exist for the chemical compounds I am trying to create, and since this data is in a dense PDF table I wanted to see if I could take the data and make it easier to visualize what compounds tend to be water-soluble and which don't.\n",
    "\n",
    "### Deliverables\n",
    "1. A CSV file containing the cleaned data from the PDF table as well as additional columns stating the qualitative water solubilty and whether the compound is hydrated\n",
    "2. A Python class/package for plotting the solubility of different kinds of chemical precursors\n",
    "\n",
    "### Possible extensions\n",
    "1. Other solvents rather than water.\n",
    "2. Regression on quantitative solubility to predict for unknown compounds"
   ]
  },
  {
   "cell_type": "code",
   "execution_count": 26,
   "metadata": {
    "collapsed": false
   },
   "outputs": [],
   "source": [
    "import pandas as pd\n",
    "import numpy as np\n",
    "import matplotlib.pyplot as plt"
   ]
  },
  {
   "cell_type": "markdown",
   "metadata": {},
   "source": [
    "First, we read in the data from the CSV file. The CSV file was read in using Tabula, a PDF-reading software that converts PDF tables into tab-delimited files."
   ]
  },
  {
   "cell_type": "code",
   "execution_count": 27,
   "metadata": {
    "collapsed": false
   },
   "outputs": [
    {
     "name": "stdout",
     "output_type": "stream",
     "text": [
      "(2740, 11)\n",
      "2735    2677\n",
      "2736    2678\n",
      "2737    2679\n",
      "2738    2680\n",
      "2739    2681\n",
      "Name: no, dtype: object\n"
     ]
    }
   ],
   "source": [
    "colNames = ['no', 'name', 'chemical_formula', 'CAS_no', 'mol_weight', 'physical_form', 'melting_point', 'boiling_point', \n",
    "            'density', 'solubility_per_100gH2O', 'qualitative_solubility', 'blanks']\n",
    "df = pd.read_csv('tabula-Inorganic_solubility_with_lines.tsv', sep='\\t', names=colNames)\n",
    "df = df.drop(labels='blanks', axis=1)\n",
    "print(df.shape)\n",
    "print(df.no.tail(5))"
   ]
  },
  {
   "cell_type": "markdown",
   "metadata": {},
   "source": [
    "Ok, we're starting out with 2740 entries, but our chemicals are only numbered to 2681. Time to clean!"
   ]
  },
  {
   "cell_type": "code",
   "execution_count": 28,
   "metadata": {
    "collapsed": false
   },
   "outputs": [
    {
     "data": {
      "text/plain": [
       "(2711, 11)"
      ]
     },
     "execution_count": 28,
     "metadata": {},
     "output_type": "execute_result"
    }
   ],
   "source": [
    "# Eliminate blank lines\n",
    "df = df.dropna(axis=0, thresh=1)\n",
    "df.shape"
   ]
  },
  {
   "cell_type": "code",
   "execution_count": 29,
   "metadata": {
    "collapsed": false,
    "scrolled": true
   },
   "outputs": [
    {
     "name": "stdout",
     "output_type": "stream",
     "text": [
      "(2681, 11)\n",
      "        no                           name\n",
      "2735  2677              Zirconium nitride\n",
      "2736  2678            Zirconium phosphide\n",
      "2737  2679             Zirconium silicide\n",
      "2738  2680              Zirconyl chloride\n",
      "2739  2681  Zirconyl chloride octahydrate\n"
     ]
    }
   ],
   "source": [
    "# Get rid of the header line that sometimes accompanies a new page\n",
    "df = df[df.no != 'No.'] \n",
    "df.name = df.name.str.replace('\\n', ' ')\n",
    "print(df.shape)\n",
    "print(df.iloc[:,:2].tail(5))\n",
    "df = df.reset_index(drop=True)"
   ]
  },
  {
   "cell_type": "markdown",
   "metadata": {
    "collapsed": true
   },
   "source": [
    "Great - now we have as many rows as we have chemicals. However, more cleaning is required - some of the reference footnotes in the solubility column have been read in as actual numbers! Let's make a function that tries to eliminate 2 significant digits from the end of the number and see whether the result is zero. If it is, we'll assume that the number had no footnote; if it's not, we'll just use that number."
   ]
  },
  {
   "cell_type": "code",
   "execution_count": 30,
   "metadata": {
    "collapsed": false,
    "scrolled": true
   },
   "outputs": [],
   "source": [
    "def clean_solubility_references(sol_str):\n",
    "    ''' Clean reference superscript numbers from solubility values\n",
    "    Attempts to clean the solubility string sol_str by removing the last two characters, \n",
    "    comparing the resulting number to zero.\n",
    "        \n",
    "    sol_str - string to be cleaned\n",
    "    returns float\n",
    "    '''\n",
    "    if(len(str(sol_str)) < 3): return float(sol_str) # Don't try to convert an empty string to a float\n",
    "    stripped_number = float(str(sol_str)[:-2]) \n",
    "    if stripped_number != 0: return stripped_number\n",
    "    return float(sol_str)\n",
    "        \n",
    "df.solubility_per_100gH2O = df.solubility_per_100gH2O.apply(lambda x: clean_solubility_references(x) if(pd.notnull(x)) else x)"
   ]
  },
  {
   "cell_type": "markdown",
   "metadata": {},
   "source": [
    "Now that we've cleaned the solubility values, let's quickly look at some of the numbers."
   ]
  },
  {
   "cell_type": "code",
   "execution_count": 31,
   "metadata": {
    "collapsed": false
   },
   "outputs": [
    {
     "data": {
      "text/plain": [
       "count     735.000000\n",
       "mean       72.683508\n",
       "std       111.089021\n",
       "min         0.000001\n",
       "25%         1.085000\n",
       "50%        37.000000\n",
       "75%       101.000000\n",
       "max      1308.000000\n",
       "Name: solubility_per_100gH2O, dtype: float64"
      ]
     },
     "execution_count": 31,
     "metadata": {},
     "output_type": "execute_result"
    }
   ],
   "source": [
    "# Descriptive statistics\n",
    "df.solubility_per_100gH2O.describe()"
   ]
  },
  {
   "cell_type": "code",
   "execution_count": 32,
   "metadata": {
    "collapsed": false,
    "scrolled": true
   },
   "outputs": [
    {
     "name": "stdout",
     "output_type": "stream",
     "text": [
      "      solubility_per_100gH2O                                     name\n",
      "1041                  1308.0                       Indium(III) iodide\n",
      "177                    987.0                   Antimony(III) chloride\n",
      "1634                   709.0  Diphosphoric acid (pyrophosphoric acid)\n",
      "577                    573.0                          Cesium fluoride\n",
      "2056                   558.0        Silver(I) perchlorate monohydrate\n"
     ]
    }
   ],
   "source": [
    "# Now the most soluble chemicals\n",
    "print(df[['solubility_per_100gH2O', 'name']].sort_values(by='solubility_per_100gH2O', ascending=False).head(5))\n"
   ]
  },
  {
   "cell_type": "markdown",
   "metadata": {},
   "source": [
    "We'll need to combine this quantitative data with the qualitative data in the qualitative column. Since the mappy from quantitative solubility to quantitative solubility is not explicit in the table, we'll use guidelines found on the web. We'll also plot a histogram to visualize how many chemicals lie in each solubility range."
   ]
  },
  {
   "cell_type": "code",
   "execution_count": 33,
   "metadata": {
    "collapsed": false
   },
   "outputs": [
    {
     "data": {
      "image/png": "[encoded data removed]",
      "text/plain": [
       "<matplotlib.figure.Figure at 0x7f9f28c67ac8>"
      ]
     },
     "metadata": {},
     "output_type": "display_data"
    }
   ],
   "source": [
    "log_bins = np.logspace(-6, 4, num=30)\n",
    "df.solubility_per_100gH2O.hist(bins=log_bins)\n",
    "plt.xscale('log')\n",
    "plt.yscale('log')\n",
    "plt.xlabel('Solubility per 100g H2O')\n",
    "plt.ylabel('Frequency')\n",
    "plt.vlines([1e-3, 1, 100], 1e-1, 1e3)\n",
    "plt.ylim([1e-1, 1e3])\n",
    "plt.text(1e-5, 1e2, 'i', fontsize=18)\n",
    "plt.text(1e-2, 1e2, 'sl', fontsize=18)\n",
    "plt.text(1e1, 1e2, 's', fontsize=18)\n",
    "plt.text(1e3, 1e2, 'vs', fontsize=18)\n",
    "plt.show()"
   ]
  },
  {
   "cell_type": "markdown",
   "metadata": {},
   "source": [
    "Qualitative solubility limits:\n",
    "* vs - very soluble - > 100g per 100g H2O\n",
    "* s - soluble - 1-100g per 100g H2O\n",
    "* sl - slightly soluble - 1e-3g - 1g per 100g H2O\n",
    "* i - insoluble - less than 1e-3g per 100g H2O"
   ]
  },
  {
   "cell_type": "markdown",
   "metadata": {},
   "source": [
    "Let's parse the qualitative solubility next. Where solubility is indicated, there is a marker (e.g. s for soluble, i for insoluble) followed by a list of solvents, then a semi-colon separator for listing other qualitative solubilities."
   ]
  },
  {
   "cell_type": "code",
   "execution_count": 34,
   "metadata": {
    "collapsed": false,
    "scrolled": true
   },
   "outputs": [
    {
     "name": "stdout",
     "output_type": "stream",
     "text": [
      "dict_keys(['H2O', 'acid', 'alk', 'EtOH', 'dil HCl', 'bz', 'tol', 'CS2', 'ctc', 'chl', 'eth', 'xyl', 'ace', 'pyr', 'os', 'peth', 'MeOH', 'py', 'et', 'ct', 'dil acid', 'conc HCl', 'hc', 'bz. tol', 'HNO3', 'diox', 'hot H2O', 'conc HNO3', 'HCl', 'alk iodide soln', 'H2O (exp)', 'NH4OH', 'conc acid', 'cold H2O', 'thf', 'hot acid', 'aqua regia', 'hot HCl', 'hot conc acid', 'KCN soln', 'conc alk', 'dil H2SO4', 'HOAc', 'CN soln', 'HF', 'dil HNO3', 'dil HF', 'hot EtOH', 'NaOH', 'dil acids', 'KCNS', 'warm acid', 'CC4l', 'dil alk', 'DMF', 'DMSO', 'sl aqua regia', 'EtOh', 'reac acid', 'H2SO4', 'of SO2 in H2O', 'HF-HNO3 mixture', 'hot conc alk', 'hot HF', 'HNO3/HF', 'eth chl', 'EtAc', 'bz chl', 'conc HF'])\n"
     ]
    }
   ],
   "source": [
    "def parse_qualsol(qs_str):\n",
    "    '''Parse a qualitative solubility string\n",
    "    input - qs_str (string) - qualitative solubility string\n",
    "    output - sols (dict) - dictionary with solvent as key, qualitative solubility as value\n",
    "    '''\n",
    "    sols = dict()\n",
    "    for solubility in qs_str.split(';'): # First parse each solubility classifier\n",
    "        items = solubility.strip().split(' ')\n",
    "        qs = items[0]\n",
    "        solvents = ' '.join(items[1:]).split(',')\n",
    "        for solvent in solvents: # Then add each solvent\n",
    "            # Clean up some spacing issues\n",
    "            if ('H 4' in solvent or 'H 2' in solvent): solvent = solvent.replace('H ', 'H')\n",
    "            sols[solvent.lstrip()] = qs\n",
    "    return sols\n",
    "            \n",
    "qsseries = df.qualitative_solubility[df.qualitative_solubility.notnull()].apply(parse_qualsol)\n",
    "td = dict()\n",
    "for entry in qsseries:\n",
    "    for key, value in entry.items():\n",
    "        td.setdefault(key, []).append(value)\n",
    "print(td.keys())"
   ]
  },
  {
   "cell_type": "markdown",
   "metadata": {},
   "source": [
    "Let's find the qualitative solubilities with the most entries to see whether we have enough data points to do anything useful."
   ]
  },
  {
   "cell_type": "code",
   "execution_count": 35,
   "metadata": {
    "collapsed": false
   },
   "outputs": [
    {
     "data": {
      "text/plain": [
       "[(1246, 'H2O'), (713, 'EtOH'), (233, 'acid'), (169, 'eth'), (121, 'ace')]"
      ]
     },
     "execution_count": 35,
     "metadata": {},
     "output_type": "execute_result"
    }
   ],
   "source": [
    "nEntries = []\n",
    "for key, value in td.items():\n",
    "    nEntries.append((len(value), key))\n",
    "sorted(nEntries, reverse=True)[:5]"
   ]
  },
  {
   "cell_type": "markdown",
   "metadata": {
    "collapsed": true
   },
   "source": [
    "For now, let's only look at water solubility and leave other solubility to further analysis. Let's combine all of the water solubility information we have into a useful dataframe. We need to combine the quantitative solubility indicated in the column with the qualitative solubility indicated in the qualitative solubility column. We do this by sorting the quantitative value if given into its appropriate bin; if not given, we use the qualitative value."
   ]
  },
  {
   "cell_type": "code",
   "execution_count": 36,
   "metadata": {
    "collapsed": false
   },
   "outputs": [],
   "source": [
    "df['is_hydrated'] = df.name.str.contains('hydrate')"
   ]
  },
  {
   "cell_type": "code",
   "execution_count": 37,
   "metadata": {
    "collapsed": false
   },
   "outputs": [
    {
     "data": {
      "text/html": [
       "<div>\n",
       "<table border=\"1\" class=\"dataframe\">\n",
       "  <thead>\n",
       "    <tr style=\"text-align: right;\">\n",
       "      <th></th>\n",
       "      <th>no</th>\n",
       "      <th>name</th>\n",
       "      <th>chemical_formula</th>\n",
       "      <th>CAS_no</th>\n",
       "      <th>mol_weight</th>\n",
       "      <th>physical_form</th>\n",
       "      <th>melting_point</th>\n",
       "      <th>boiling_point</th>\n",
       "      <th>density</th>\n",
       "      <th>solubility_per_100gH2O</th>\n",
       "      <th>qualitative_solubility</th>\n",
       "      <th>is_hydrated</th>\n",
       "    </tr>\n",
       "  </thead>\n",
       "  <tbody>\n",
       "    <tr>\n",
       "      <th>0</th>\n",
       "      <td>1</td>\n",
       "      <td>Actinium</td>\n",
       "      <td>Ac</td>\n",
       "      <td>7440-34-8</td>\n",
       "      <td>227</td>\n",
       "      <td>silv metal; cub</td>\n",
       "      <td>1051</td>\n",
       "      <td>3198</td>\n",
       "      <td>10</td>\n",
       "      <td>NaN</td>\n",
       "      <td>NaN</td>\n",
       "      <td>False</td>\n",
       "    </tr>\n",
       "    <tr>\n",
       "      <th>1</th>\n",
       "      <td>2</td>\n",
       "      <td>Actinium bromide</td>\n",
       "      <td>AcBr3</td>\n",
       "      <td>33689-81-5</td>\n",
       "      <td>467</td>\n",
       "      <td>wh hex cry</td>\n",
       "      <td>NaN</td>\n",
       "      <td>800 subl</td>\n",
       "      <td>5.85</td>\n",
       "      <td>NaN</td>\n",
       "      <td>s H2O</td>\n",
       "      <td>False</td>\n",
       "    </tr>\n",
       "    <tr>\n",
       "      <th>2</th>\n",
       "      <td>3</td>\n",
       "      <td>Actinium chloride</td>\n",
       "      <td>AcCl3</td>\n",
       "      <td>22986-54-5</td>\n",
       "      <td>333</td>\n",
       "      <td>wh hex cry</td>\n",
       "      <td>NaN</td>\n",
       "      <td>960 subl</td>\n",
       "      <td>4.81</td>\n",
       "      <td>NaN</td>\n",
       "      <td>NaN</td>\n",
       "      <td>False</td>\n",
       "    </tr>\n",
       "    <tr>\n",
       "      <th>3</th>\n",
       "      <td>4</td>\n",
       "      <td>Actinium fluoride</td>\n",
       "      <td>AcF3</td>\n",
       "      <td>33689-80-4</td>\n",
       "      <td>284</td>\n",
       "      <td>wh hex cry</td>\n",
       "      <td>NaN</td>\n",
       "      <td>NaN</td>\n",
       "      <td>7.88</td>\n",
       "      <td>NaN</td>\n",
       "      <td>i H2O</td>\n",
       "      <td>False</td>\n",
       "    </tr>\n",
       "    <tr>\n",
       "      <th>4</th>\n",
       "      <td>5</td>\n",
       "      <td>Actinium iodide</td>\n",
       "      <td>AcI3</td>\n",
       "      <td>33689-82-6</td>\n",
       "      <td>608</td>\n",
       "      <td>wh cry</td>\n",
       "      <td>NaN</td>\n",
       "      <td>NaN</td>\n",
       "      <td>NaN</td>\n",
       "      <td>NaN</td>\n",
       "      <td>s H2O</td>\n",
       "      <td>False</td>\n",
       "    </tr>\n",
       "  </tbody>\n",
       "</table>\n",
       "</div>"
      ],
      "text/plain": [
       "  no               name chemical_formula      CAS_no mol_weight  \\\n",
       "0  1           Actinium               Ac   7440-34-8        227   \n",
       "1  2   Actinium bromide            AcBr3  33689-81-5        467   \n",
       "2  3  Actinium chloride            AcCl3  22986-54-5        333   \n",
       "3  4  Actinium fluoride             AcF3  33689-80-4        284   \n",
       "4  5    Actinium iodide             AcI3  33689-82-6        608   \n",
       "\n",
       "     physical_form melting_point boiling_point density  \\\n",
       "0  silv metal; cub          1051          3198      10   \n",
       "1       wh hex cry           NaN      800 subl    5.85   \n",
       "2       wh hex cry           NaN      960 subl    4.81   \n",
       "3       wh hex cry           NaN           NaN    7.88   \n",
       "4           wh cry           NaN           NaN     NaN   \n",
       "\n",
       "   solubility_per_100gH2O qualitative_solubility is_hydrated  \n",
       "0                     NaN                    NaN       False  \n",
       "1                     NaN                  s H2O       False  \n",
       "2                     NaN                    NaN       False  \n",
       "3                     NaN                  i H2O       False  \n",
       "4                     NaN                  s H2O       False  "
      ]
     },
     "execution_count": 37,
     "metadata": {},
     "output_type": "execute_result"
    }
   ],
   "source": [
    "df.head()"
   ]
  },
  {
   "cell_type": "code",
   "execution_count": 38,
   "metadata": {
    "collapsed": true
   },
   "outputs": [],
   "source": [
    "df['qs_H2O'] = -1 # Use -1 to indicate no information\n",
    "solbins = [1e-3, 1, 100, 10000]\n",
    "qs_conversion = {'vs': 3, 's': 2, 'sl': 1, 'i': 0, 'reac': -2}\n",
    "\n",
    "for index, row in df.iterrows():\n",
    "    # Otherwise use the qualitative solubility\n",
    "    if type(row['qualitative_solubility']) is str and 'H2O' in row['qualitative_solubility']:\n",
    "        soldict = parse_qualsol(row['qualitative_solubility'])\n",
    "        if 'H2O' in soldict and soldict['H2O'] in qs_conversion:\n",
    "            df.ix[index, 'qs_H2O'] = qs_conversion[soldict['H2O']]  \n",
    "            \n",
    "        #Use the quantitative solubility if given\n",
    "    elif not np.isnan(row['solubility_per_100gH2O']):\n",
    "        for solindex, limit in enumerate(solbins):\n",
    "            if row['solubility_per_100gH2O'] < limit:\n",
    "                df.ix[index, 'qs_H2O'] = solindex\n",
    "                break\n",
    "            "
   ]
  },
  {
   "cell_type": "code",
   "execution_count": 39,
   "metadata": {
    "collapsed": false
   },
   "outputs": [
    {
     "data": {
      "text/html": [
       "<div>\n",
       "<table border=\"1\" class=\"dataframe\">\n",
       "  <thead>\n",
       "    <tr style=\"text-align: right;\">\n",
       "      <th></th>\n",
       "      <th>name</th>\n",
       "      <th>solubility_per_100gH2O</th>\n",
       "      <th>qualitative_solubility</th>\n",
       "      <th>qs_H2O</th>\n",
       "    </tr>\n",
       "  </thead>\n",
       "  <tbody>\n",
       "    <tr>\n",
       "      <th>19</th>\n",
       "      <td>Aluminum chloride</td>\n",
       "      <td>45.1</td>\n",
       "      <td>s bz, ctc, chl</td>\n",
       "      <td>2</td>\n",
       "    </tr>\n",
       "    <tr>\n",
       "      <th>20</th>\n",
       "      <td>Aluminum chloride hexahydrate</td>\n",
       "      <td>45.1</td>\n",
       "      <td>s EtOH, eth</td>\n",
       "      <td>2</td>\n",
       "    </tr>\n",
       "    <tr>\n",
       "      <th>23</th>\n",
       "      <td>Aluminum fluoride</td>\n",
       "      <td>0.5</td>\n",
       "      <td>NaN</td>\n",
       "      <td>1</td>\n",
       "    </tr>\n",
       "    <tr>\n",
       "      <th>24</th>\n",
       "      <td>Aluminum fluoride monohydrate</td>\n",
       "      <td>0.5</td>\n",
       "      <td>NaN</td>\n",
       "      <td>1</td>\n",
       "    </tr>\n",
       "    <tr>\n",
       "      <th>25</th>\n",
       "      <td>Aluminum fluoride trihydrate</td>\n",
       "      <td>0.5</td>\n",
       "      <td>NaN</td>\n",
       "      <td>1</td>\n",
       "    </tr>\n",
       "    <tr>\n",
       "      <th>34</th>\n",
       "      <td>Aluminum nitrate</td>\n",
       "      <td>68.9</td>\n",
       "      <td>vs EtOH; sl ace</td>\n",
       "      <td>2</td>\n",
       "    </tr>\n",
       "    <tr>\n",
       "      <th>35</th>\n",
       "      <td>Aluminum nitrate nonahydrate</td>\n",
       "      <td>68.9</td>\n",
       "      <td>vs EtOH; i pyr</td>\n",
       "      <td>2</td>\n",
       "    </tr>\n",
       "    <tr>\n",
       "      <th>43</th>\n",
       "      <td>Aluminum perchlorate nonahydrate</td>\n",
       "      <td>182.0</td>\n",
       "      <td>NaN</td>\n",
       "      <td>3</td>\n",
       "    </tr>\n",
       "    <tr>\n",
       "      <th>49</th>\n",
       "      <td>Aluminum sulfate</td>\n",
       "      <td>38.5</td>\n",
       "      <td>i EtOH</td>\n",
       "      <td>2</td>\n",
       "    </tr>\n",
       "    <tr>\n",
       "      <th>50</th>\n",
       "      <td>Aluminum sulfate octadecahydrate</td>\n",
       "      <td>38.5</td>\n",
       "      <td>NaN</td>\n",
       "      <td>2</td>\n",
       "    </tr>\n",
       "  </tbody>\n",
       "</table>\n",
       "</div>"
      ],
      "text/plain": [
       "                                name  solubility_per_100gH2O  \\\n",
       "19                 Aluminum chloride                    45.1   \n",
       "20     Aluminum chloride hexahydrate                    45.1   \n",
       "23                 Aluminum fluoride                     0.5   \n",
       "24     Aluminum fluoride monohydrate                     0.5   \n",
       "25      Aluminum fluoride trihydrate                     0.5   \n",
       "34                  Aluminum nitrate                    68.9   \n",
       "35      Aluminum nitrate nonahydrate                    68.9   \n",
       "43  Aluminum perchlorate nonahydrate                   182.0   \n",
       "49                  Aluminum sulfate                    38.5   \n",
       "50  Aluminum sulfate octadecahydrate                    38.5   \n",
       "\n",
       "   qualitative_solubility  qs_H2O  \n",
       "19         s bz, ctc, chl       2  \n",
       "20            s EtOH, eth       2  \n",
       "23                    NaN       1  \n",
       "24                    NaN       1  \n",
       "25                    NaN       1  \n",
       "34        vs EtOH; sl ace       2  \n",
       "35         vs EtOH; i pyr       2  \n",
       "43                    NaN       3  \n",
       "49                 i EtOH       2  \n",
       "50                    NaN       2  "
      ]
     },
     "execution_count": 39,
     "metadata": {},
     "output_type": "execute_result"
    }
   ],
   "source": [
    "df[['name', 'solubility_per_100gH2O', 'qualitative_solubility', 'qs_H2O']][df.solubility_per_100gH2O.notnull()].head(10)"
   ]
  },
  {
   "cell_type": "code",
   "execution_count": 40,
   "metadata": {
    "collapsed": false
   },
   "outputs": [
    {
     "data": {
      "text/html": [
       "<div>\n",
       "<table border=\"1\" class=\"dataframe\">\n",
       "  <thead>\n",
       "    <tr style=\"text-align: right;\">\n",
       "      <th></th>\n",
       "      <th>name</th>\n",
       "      <th>solubility_per_100gH2O</th>\n",
       "      <th>qualitative_solubility</th>\n",
       "      <th>qs_H2O</th>\n",
       "    </tr>\n",
       "  </thead>\n",
       "  <tbody>\n",
       "    <tr>\n",
       "      <th>1</th>\n",
       "      <td>Actinium bromide</td>\n",
       "      <td>NaN</td>\n",
       "      <td>s H2O</td>\n",
       "      <td>2</td>\n",
       "    </tr>\n",
       "    <tr>\n",
       "      <th>3</th>\n",
       "      <td>Actinium fluoride</td>\n",
       "      <td>NaN</td>\n",
       "      <td>i H2O</td>\n",
       "      <td>0</td>\n",
       "    </tr>\n",
       "    <tr>\n",
       "      <th>4</th>\n",
       "      <td>Actinium iodide</td>\n",
       "      <td>NaN</td>\n",
       "      <td>s H2O</td>\n",
       "      <td>2</td>\n",
       "    </tr>\n",
       "    <tr>\n",
       "      <th>5</th>\n",
       "      <td>Actinium oxide</td>\n",
       "      <td>NaN</td>\n",
       "      <td>i H2O</td>\n",
       "      <td>0</td>\n",
       "    </tr>\n",
       "    <tr>\n",
       "      <th>6</th>\n",
       "      <td>Aluminum</td>\n",
       "      <td>NaN</td>\n",
       "      <td>i H2O; s acid, alk</td>\n",
       "      <td>0</td>\n",
       "    </tr>\n",
       "    <tr>\n",
       "      <th>7</th>\n",
       "      <td>Aluminum ammonium sulfate</td>\n",
       "      <td>NaN</td>\n",
       "      <td>sl H2O; i EtOH</td>\n",
       "      <td>1</td>\n",
       "    </tr>\n",
       "    <tr>\n",
       "      <th>8</th>\n",
       "      <td>Aluminum ammonium sulfate dodecahydrate</td>\n",
       "      <td>NaN</td>\n",
       "      <td>s H2O; i EtOH</td>\n",
       "      <td>2</td>\n",
       "    </tr>\n",
       "    <tr>\n",
       "      <th>11</th>\n",
       "      <td>Aluminum borate</td>\n",
       "      <td>NaN</td>\n",
       "      <td>i H2O</td>\n",
       "      <td>0</td>\n",
       "    </tr>\n",
       "    <tr>\n",
       "      <th>12</th>\n",
       "      <td>Aluminum boride</td>\n",
       "      <td>NaN</td>\n",
       "      <td>s dil HCl</td>\n",
       "      <td>-1</td>\n",
       "    </tr>\n",
       "    <tr>\n",
       "      <th>13</th>\n",
       "      <td>Aluminum borohydride</td>\n",
       "      <td>NaN</td>\n",
       "      <td>reac H2O</td>\n",
       "      <td>-2</td>\n",
       "    </tr>\n",
       "  </tbody>\n",
       "</table>\n",
       "</div>"
      ],
      "text/plain": [
       "                                       name  solubility_per_100gH2O  \\\n",
       "1                          Actinium bromide                     NaN   \n",
       "3                         Actinium fluoride                     NaN   \n",
       "4                           Actinium iodide                     NaN   \n",
       "5                            Actinium oxide                     NaN   \n",
       "6                                  Aluminum                     NaN   \n",
       "7                 Aluminum ammonium sulfate                     NaN   \n",
       "8   Aluminum ammonium sulfate dodecahydrate                     NaN   \n",
       "11                          Aluminum borate                     NaN   \n",
       "12                          Aluminum boride                     NaN   \n",
       "13                     Aluminum borohydride                     NaN   \n",
       "\n",
       "   qualitative_solubility  qs_H2O  \n",
       "1                   s H2O       2  \n",
       "3                   i H2O       0  \n",
       "4                   s H2O       2  \n",
       "5                   i H2O       0  \n",
       "6      i H2O; s acid, alk       0  \n",
       "7          sl H2O; i EtOH       1  \n",
       "8           s H2O; i EtOH       2  \n",
       "11                  i H2O       0  \n",
       "12              s dil HCl      -1  \n",
       "13               reac H2O      -2  "
      ]
     },
     "execution_count": 40,
     "metadata": {},
     "output_type": "execute_result"
    }
   ],
   "source": [
    "df[['name', 'solubility_per_100gH2O', 'qualitative_solubility', 'qs_H2O']][df.qualitative_solubility.notnull()].head(10)"
   ]
  },
  {
   "cell_type": "markdown",
   "metadata": {},
   "source": [
    "What's the most common chemical precusor?"
   ]
  },
  {
   "cell_type": "code",
   "execution_count": 48,
   "metadata": {
    "collapsed": false
   },
   "outputs": [
    {
     "name": "stdout",
     "output_type": "stream",
     "text": [
      "[('chloride', 185), ('fluoride', 169), ('oxide', 146), ('bromide', 127), ('sulfate', 109), ('sulfide', 103), ('iodide', 98), ('hexahydrate', 87), ('nitrate', 80), ('dihydrate', 71), ('monohydrate', 62), ('hydrogen', 52), ('tetrahydrate', 50), ('trihydrate', 48), ('phosphate', 48)]\n"
     ]
    }
   ],
   "source": [
    "from collections import Counter\n",
    "second_names = []\n",
    "for index, chemical_name in df.name.items():\n",
    "    splitnames = chemical_name.split(' ')\n",
    "    if len(splitnames) > 1:\n",
    "        second_names.extend(splitnames[1:])\n",
    "name_counter = Counter(second_names)\n",
    "print(name_counter.most_common(15))\n"
   ]
  },
  {
   "cell_type": "markdown",
   "metadata": {},
   "source": [
    "So it looks like we have lots of information on chlorides, fluorides, oxides, bromides, sulfates, sulfides, iodides, and nitrates. I work with nitrates quite a bit so I'll start there."
   ]
  },
  {
   "cell_type": "markdown",
   "metadata": {},
   "source": [
    "## Reading individual chemicals for plotting"
   ]
  },
  {
   "cell_type": "code",
   "execution_count": null,
   "metadata": {
    "collapsed": false
   },
   "outputs": [],
   "source": [
    "class Element:\n",
    "    \n",
    "    def __init__(self, name):\n",
    "        '''Initialize relevant element info'''\n",
    "        self.name = name\n",
    "        self.atomic_number = get_atomic_number(name)\n",
    "        self.row = get_row(atomic_number)\n",
    "        self.col = get_group(atomic_number)\n",
    "        \n",
    "    \n",
    "    def get_row(at_no):\n",
    "        '''Get the (visual) row for a given element's atomic number\n",
    "        input: at_no (int) - atomic number\n",
    "        output: (int) - visual row'''\n",
    "        if at_no < 3: return 1\n",
    "        if at_no < 11: return 2\n",
    "        if at_no < 19: return 3\n",
    "        if at_no < 37: return 4\n",
    "        if at_no < 55: return 5\n",
    "        if at_no < 57: return 6\n",
    "        if at_no < 72: return 9 # Lanthanides\n",
    "        if at_no < 87: return 6\n",
    "        if at_no < 89: return 7 \n",
    "        if at_no < 104: return 10 # Actinides\n",
    "        else: return 7\n",
    "    \n",
    "    def get_group(at_no):\n",
    "        '''Get the (visual) column/group for a given element atomic number\n",
    "        input: at_no (int) - atomic number\n",
    "        output: (int) - visual column/group'''\n",
    "        firsts = [1,3,11,19,37,55,87]\n",
    "        if at_no in [1, 3, 11, 19, 37, 55, 87]: return 1\n",
    "        if at_no in (firsts[1:] + 1): return 2\n",
    "        for i in range(3, 13):\n",
    "            if(at_no) in ( i): return i\n",
    "        group_13 = [5, 13, 31, 49, 81, 113]\n",
    "        \n",
    "    def get_table_row():\n",
    "        return (self.row - 1) * 2\n",
    "    \n",
    "    def get_table_col():\n",
    "        return (self.col - 1) * 2\n",
    "    \n",
    "    "
   ]
  },
  {
   "cell_type": "markdown",
   "metadata": {},
   "source": [
    "First, let's look at what types of chemicals we have."
   ]
  },
  {
   "cell_type": "code",
   "execution_count": null,
   "metadata": {
    "collapsed": false
   },
   "outputs": [],
   "source": [
    "\n",
    "nitrates = df[df.name.str.contains(' nitrate')]\n",
    "nitrates = nitrates[df.solubility_per_100gH2O.notnull() | df.qualitative_solubility.notnull()]\n",
    "nitrates.name = nitrates.name.str.replace('nitrate (.+)hydrate', 'nitrate')\n",
    "nitrates = nitrates.drop_duplicates(subset='name')\n",
    "nitrates"
   ]
  },
  {
   "cell_type": "markdown",
   "metadata": {},
   "source": [
    "Need to figure out a way to parse oxidation state from the name\n",
    "Need to figure out a way to combine hydrate, non-hydrate information\n",
    "Need to get group, period data for plotting"
   ]
  },
  {
   "cell_type": "markdown",
   "metadata": {},
   "source": [
    "## Plotting\n",
    "We can use the heatmap from the seaborn library to show our solubility information. This requires a little creative plotting to account for elements which have precursors with multiple oxidation states. We use a (2N, 2N) numpy ndarray to represent up to 4 possible oxidation states for each element. Then we mask over the periodic table and make some code to plot the qualitative solubility of an element belonging to a certain group of precursors (e.g. nitrates)."
   ]
  },
  {
   "cell_type": "code",
   "execution_count": null,
   "metadata": {
    "collapsed": false
   },
   "outputs": [],
   "source": [
    "import seaborn as sns\n",
    "\n",
    "ptable = np.random.randn(20, 36)\n",
    "mask = np.zeros_like(ptable)\n",
    "mask[0:2,2:34] = True\n",
    "mask[2:4,4:24] = True\n",
    "mask[4:6,4:24] = True\n",
    "mask[10:12,4:6] = True\n",
    "mask[12:14,4:6] = True\n",
    "mask[14:16,:] = True\n",
    "mask[16:18,pd.np.r_[0:4,34:36]] = True\n",
    "mask[18:20,pd.np.r_[0:4,34:36]] = True\n",
    "with sns.axes_style(\"white\"):\n",
    "     ax = sns.heatmap(ptable, mask=mask, linewidths=0.1,vmax=.3, square=True, cbar=False, \n",
    "                      xticklabels=False, yticklabels=False)\n",
    "plt.show()"
   ]
  },
  {
   "cell_type": "markdown",
   "metadata": {},
   "source": [
    "For parsing out the oxidation state and hydration state, let's make a class called element that allows us to set some parameters"
   ]
  }
 ],
 "metadata": {
  "anaconda-cloud": {},
  "kernelspec": {
   "display_name": "Python [myenv]",
   "language": "python",
   "name": "Python [myenv]"
  },
  "language_info": {
   "codemirror_mode": {
    "name": "ipython",
    "version": 3
   },
   "file_extension": ".py",
   "mimetype": "text/x-python",
   "name": "python",
   "nbconvert_exporter": "python",
   "pygments_lexer": "ipython3",
   "version": "3.6.0"
  }
 },
 "nbformat": 4,
 "nbformat_minor": 0
}
