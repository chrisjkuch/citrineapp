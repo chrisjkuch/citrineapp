{
 "cells": [
  {
   "cell_type": "markdown",
   "metadata": {},
   "source": [
    "### Properties of inorganic chemical precursors\n",
    "\n",
    "This Jupyter notebook cleans data imported from the CRC Handbook of Chemistry and Physics, 85th edition related to the solubility of various compounds. It then attempts to learn general rules about chemical solubility."
   ]
  },
  {
   "cell_type": "code",
   "execution_count": 30,
   "metadata": {
    "collapsed": false
   },
   "outputs": [],
   "source": [
    "import pandas as pd\n",
    "import numpy as np\n",
    "import matplotlib.pyplot as plt"
   ]
  },
  {
   "cell_type": "code",
   "execution_count": 2,
   "metadata": {
    "collapsed": false
   },
   "outputs": [
    {
     "name": "stdout",
     "output_type": "stream",
     "text": [
      "(2740, 11)\n"
     ]
    }
   ],
   "source": [
    "colNames = ['no', 'name', 'chemical_formula', 'CAS_no', 'mol_weight', 'physical_form', 'melting_point', 'boiling point', \n",
    "            'density', 'solubility_per_100gH2O', 'qualitative_solubility', 'blanks']\n",
    "df = pd.read_csv('tabula-Inorganic_solubility_with_lines.tsv', sep='\\t', names=colNames)\n",
    "df = df.drop(labels='blanks', axis=1)\n",
    "print(df.shape)"
   ]
  },
  {
   "cell_type": "code",
   "execution_count": 3,
   "metadata": {
    "collapsed": false
   },
   "outputs": [
    {
     "data": {
      "text/plain": [
       "(2711, 11)"
      ]
     },
     "execution_count": 3,
     "metadata": {},
     "output_type": "execute_result"
    }
   ],
   "source": [
    "# Eliminate blank lines\n",
    "df = df.dropna(axis=0, thresh=1)\n",
    "df.shape"
   ]
  },
  {
   "cell_type": "code",
   "execution_count": 4,
   "metadata": {
    "collapsed": false
   },
   "outputs": [
    {
     "name": "stdout",
     "output_type": "stream",
     "text": [
      "(2681, 11)\n",
      "        no                           name\n",
      "2735  2677              Zirconium nitride\n",
      "2736  2678            Zirconium phosphide\n",
      "2737  2679             Zirconium silicide\n",
      "2738  2680              Zirconyl chloride\n",
      "2739  2681  Zirconyl chloride octahydrate\n"
     ]
    }
   ],
   "source": [
    "# Get rid of the header line that sometimes accompanies a new page\n",
    "df = df[df.no != 'No.'] \n",
    "print(df.shape)\n",
    "print(df.iloc[:,:2].tail(5))"
   ]
  },
  {
   "cell_type": "markdown",
   "metadata": {
    "collapsed": true
   },
   "source": [
    "More cleaning required - some of the reference footnotes in the solubility column have been read in as actual numbers! Let's make a function that tries to eliminate 2 significant digits from the end of the number and see whether the result is zero. If it is, we'll assume that the number had no footnote; if it's not, we'll just use that number."
   ]
  },
  {
   "cell_type": "code",
   "execution_count": 5,
   "metadata": {
    "collapsed": false,
    "scrolled": true
   },
   "outputs": [],
   "source": [
    "def clean_solubility_references(sol_str):\n",
    "    ''' Clean reference superscript numbers from solubility values\n",
    "    Attempts to clean the solubility string sol_str by removing the last two characters, \n",
    "    comparing the resulting number to zero.\n",
    "        \n",
    "    sol_str - string to be cleaned\n",
    "    returns float\n",
    "    '''\n",
    "    if(len(str(sol_str)) < 3): return float(sol_str) # Don't try to convert an empty string to a float\n",
    "    stripped_number = float(str(sol_str)[:-2]) \n",
    "    if stripped_number != 0: return stripped_number\n",
    "    return float(sol_str)\n",
    "        \n",
    "df.solubility_per_100gH2O = df.solubility_per_100gH2O.apply(lambda x: clean_solubility_references(x) if(pd.notnull(x)) else x)"
   ]
  },
  {
   "cell_type": "code",
   "execution_count": 28,
   "metadata": {
    "collapsed": false,
    "scrolled": true
   },
   "outputs": [
    {
     "name": "stdout",
     "output_type": "stream",
     "text": [
      "                                name  solubility_per_100gH2O\n",
      "20                 Aluminum chloride                    45.1\n",
      "21     Aluminum chloride hexahydrate                    45.1\n",
      "24                 Aluminum fluoride                     0.5\n",
      "25     Aluminum fluoride monohydrate                     0.5\n",
      "26      Aluminum fluoride trihydrate                     0.5\n",
      "35                  Aluminum nitrate                    68.9\n",
      "36      Aluminum nitrate nonahydrate                    68.9\n",
      "44  Aluminum perchlorate nonahydrate                   182.0\n",
      "51                  Aluminum sulfate                    38.5\n",
      "52  Aluminum sulfate octadecahydrate                    38.5\n",
      "(2681, 11)\n",
      "      solubility_per_100gH2O                                     name\n",
      "1065                  1308.0                       Indium(III) iodide\n",
      "181                    987.0                   Antimony(III) chloride\n",
      "1671                   709.0  Diphosphoric acid (pyrophosphoric acid)\n",
      "590                    573.0                          Cesium fluoride\n",
      "2102                   558.0        Silver(I) perchlorate monohydrate\n"
     ]
    },
    {
     "data": {
      "text/plain": [
       "count     735.000000\n",
       "mean       72.683508\n",
       "std       111.089021\n",
       "min         0.000001\n",
       "25%         1.085000\n",
       "50%        37.000000\n",
       "75%       101.000000\n",
       "max      1308.000000\n",
       "Name: solubility_per_100gH2O, dtype: float64"
      ]
     },
     "execution_count": 28,
     "metadata": {},
     "output_type": "execute_result"
    }
   ],
   "source": [
    "print(df[['name', 'solubility_per_100gH2O']][df.solubility_per_100gH2O.notnull()].head(10))\n",
    "print(df.shape)\n",
    "print(df[['solubility_per_100gH2O', 'name']].sort_values(by='solubility_per_100gH2O', ascending=False).head(5))\n",
    "df.solubility_per_100gH2O.describe()"
   ]
  },
  {
   "cell_type": "code",
   "execution_count": 35,
   "metadata": {
    "collapsed": false
   },
   "outputs": [
    {
     "data": {
      "image/png": "[encoded data removed]",
      "text/plain": [
       "<matplotlib.figure.Figure at 0x7f4968e5ce48>"
      ]
     },
     "metadata": {},
     "output_type": "display_data"
    }
   ],
   "source": [
    "log_bins = np.logspace(-6, 4, num=10)\n",
    "df.solubility_per_100gH2O.hist(bins=log_bins)\n",
    "plt.xscale('log')\n",
    "plt.yscale('log')\n",
    "plt.xlabel('Solubility per 100g H2O')\n",
    "plt.ylabel('Frequency')\n",
    "plt.show()"
   ]
  },
  {
   "cell_type": "markdown",
   "metadata": {},
   "source": [
    "Let's parse the qualitative solubility next. Where solubility is indicated, there is a marker (e.g. s for soluble, i for insoluble) followed by a list of solvents, then a semi-colon separator for listing other qualitative solubilities."
   ]
  },
  {
   "cell_type": "code",
   "execution_count": 9,
   "metadata": {
    "collapsed": false,
    "scrolled": true
   },
   "outputs": [
    {
     "data": {
      "text/plain": [
       "dict_keys(['H2O', 'acid', 'alk', 'EtOH', 'dil', 'HCl', 'bz', 'tol', 'CS2', 'ctc', 'chl', 'eth', 'xyl', 'ace', 'pyr', 'os', 'peth', 'MeOH', 'py', 'et', 'ct', 'conc', 'hc', 'bz.', 'HNO3', 'diox', 'hot', 'iodide', 'soln', '(exp)', 'NH4OH', 'cold', 'H', '2O', 'thf', 'aqua', 'regia', 'KCN', '2SO4', 'HOAc', 'CN', 'HF', 'NaOH', 'acids', 'KCNS', 'warm', 'NH', '4OH', 'CC4l', 'DMF', 'DMSO', 'sl', 'EtOh', 'reac', 'H2SO4', 'of', 'SO2', 'in', 'HF-HNO3', 'mixture', 'HNO3/HF', 'EtAc'])"
      ]
     },
     "execution_count": 9,
     "metadata": {},
     "output_type": "execute_result"
    }
   ],
   "source": [
    "def parse_qualsol(qs_str):\n",
    "    '''Parse a qualitative solubility string\n",
    "    '''\n",
    "    sols = dict()\n",
    "    for solubility in qs_str.split(';'): # First parse each solubility classifier\n",
    "        items = solubility.strip().split(' ')\n",
    "        qs = items[0]\n",
    "        for solvent in items[1:]: # Then add each solvent\n",
    "            solvent = solvent.strip(', ')\n",
    "            sols[solvent] = qs\n",
    "    return sols\n",
    "            \n",
    "qsseries = df.qualitative_solubility[df.qualitative_solubility.notnull()].apply(parse_qualsol)\n",
    "td = dict()\n",
    "for entry in qsseries:\n",
    "    for key, value in entry.items():\n",
    "        td.setdefault(key, []).append(value)\n",
    "td.keys()"
   ]
  },
  {
   "cell_type": "markdown",
   "metadata": {},
   "source": [
    "Let's find the qualitative solubilities with the most entries to see whether we have enough data points to do anything useful."
   ]
  },
  {
   "cell_type": "code",
   "execution_count": 10,
   "metadata": {
    "collapsed": false
   },
   "outputs": [
    {
     "data": {
      "text/plain": [
       "[(1257, 'H2O'), (715, 'EtOH'), (367, 'acid'), (170, 'eth'), (132, 'dil')]"
      ]
     },
     "execution_count": 10,
     "metadata": {},
     "output_type": "execute_result"
    }
   ],
   "source": [
    "nEntries = []\n",
    "for key, value in td.items():\n",
    "    nEntries.append((len(value), key))\n",
    "sorted(nEntries, reverse=True)[:5]"
   ]
  },
  {
   "cell_type": "markdown",
   "metadata": {},
   "source": [
    "It looks like water, ethanol, and acid solutions might have enough entries to do something interesting with. Let's create columns for each of those entries, with the qualitative solubility entered as an ordered categorical feature."
   ]
  },
  {
   "cell_type": "code",
   "execution_count": null,
   "metadata": {
    "collapsed": true
   },
   "outputs": [],
   "source": []
  }
 ],
 "metadata": {
  "anaconda-cloud": {},
  "kernelspec": {
   "display_name": "Python [myenv]",
   "language": "python",
   "name": "Python [myenv]"
  },
  "language_info": {
   "codemirror_mode": {
    "name": "ipython",
    "version": 3
   },
   "file_extension": ".py",
   "mimetype": "text/x-python",
   "name": "python",
   "nbconvert_exporter": "python",
   "pygments_lexer": "ipython3",
   "version": "3.6.0"
  }
 },
 "nbformat": 4,
 "nbformat_minor": 0
}
