{
 "cells": [
  {
   "cell_type": "markdown",
   "metadata": {},
   "source": [
    "### Properties of inorganic chemical precursors\n",
    "\n",
    "This Jupyter notebook cleans data imported from the CRC Handbook of Chemistry and Physics, 85th edition related to the solubility of various compounds. It then attempts to visualize general trends about chemical solubility."
   ]
  },
  {
   "cell_type": "code",
   "execution_count": 1,
   "metadata": {
    "collapsed": false
   },
   "outputs": [],
   "source": [
    "import pandas as pd\n",
    "import numpy as np\n",
    "import matplotlib.pyplot as plt"
   ]
  },
  {
   "cell_type": "code",
   "execution_count": 2,
   "metadata": {
    "collapsed": false
   },
   "outputs": [
    {
     "name": "stdout",
     "output_type": "stream",
     "text": [
      "(2740, 11)\n"
     ]
    }
   ],
   "source": [
    "colNames = ['no', 'name', 'chemical_formula', 'CAS_no', 'mol_weight', 'physical_form', 'melting_point', 'boiling point', \n",
    "            'density', 'solubility_per_100gH2O', 'qualitative_solubility', 'blanks']\n",
    "df = pd.read_csv('tabula-Inorganic_solubility_with_lines.tsv', sep='\\t', names=colNames)\n",
    "df = df.drop(labels='blanks', axis=1)\n",
    "print(df.shape)"
   ]
  },
  {
   "cell_type": "code",
   "execution_count": 3,
   "metadata": {
    "collapsed": false
   },
   "outputs": [
    {
     "data": {
      "text/plain": [
       "(2711, 11)"
      ]
     },
     "execution_count": 3,
     "metadata": {},
     "output_type": "execute_result"
    }
   ],
   "source": [
    "# Eliminate blank lines\n",
    "df = df.dropna(axis=0, thresh=1)\n",
    "df.shape"
   ]
  },
  {
   "cell_type": "code",
   "execution_count": 4,
   "metadata": {
    "collapsed": false
   },
   "outputs": [
    {
     "name": "stdout",
     "output_type": "stream",
     "text": [
      "(2681, 11)\n",
      "        no                           name\n",
      "2735  2677              Zirconium nitride\n",
      "2736  2678            Zirconium phosphide\n",
      "2737  2679             Zirconium silicide\n",
      "2738  2680              Zirconyl chloride\n",
      "2739  2681  Zirconyl chloride octahydrate\n"
     ]
    }
   ],
   "source": [
    "# Get rid of the header line that sometimes accompanies a new page\n",
    "df = df[df.no != 'No.'] \n",
    "print(df.shape)\n",
    "print(df.iloc[:,:2].tail(5))"
   ]
  },
  {
   "cell_type": "markdown",
   "metadata": {
    "collapsed": true
   },
   "source": [
    "More cleaning required - some of the reference footnotes in the solubility column have been read in as actual numbers! Let's make a function that tries to eliminate 2 significant digits from the end of the number and see whether the result is zero. If it is, we'll assume that the number had no footnote; if it's not, we'll just use that number."
   ]
  },
  {
   "cell_type": "code",
   "execution_count": 5,
   "metadata": {
    "collapsed": false,
    "scrolled": true
   },
   "outputs": [],
   "source": [
    "def clean_solubility_references(sol_str):\n",
    "    ''' Clean reference superscript numbers from solubility values\n",
    "    Attempts to clean the solubility string sol_str by removing the last two characters, \n",
    "    comparing the resulting number to zero.\n",
    "        \n",
    "    sol_str - string to be cleaned\n",
    "    returns float\n",
    "    '''\n",
    "    if(len(str(sol_str)) < 3): return float(sol_str) # Don't try to convert an empty string to a float\n",
    "    stripped_number = float(str(sol_str)[:-2]) \n",
    "    if stripped_number != 0: return stripped_number\n",
    "    return float(sol_str)\n",
    "        \n",
    "df.solubility_per_100gH2O = df.solubility_per_100gH2O.apply(lambda x: clean_solubility_references(x) if(pd.notnull(x)) else x)"
   ]
  },
  {
   "cell_type": "code",
   "execution_count": 6,
   "metadata": {
    "collapsed": false,
    "scrolled": true
   },
   "outputs": [
    {
     "name": "stdout",
     "output_type": "stream",
     "text": [
      "                                name  solubility_per_100gH2O\n",
      "20                 Aluminum chloride                    45.1\n",
      "21     Aluminum chloride hexahydrate                    45.1\n",
      "24                 Aluminum fluoride                     0.5\n",
      "25     Aluminum fluoride monohydrate                     0.5\n",
      "26      Aluminum fluoride trihydrate                     0.5\n",
      "35                  Aluminum nitrate                    68.9\n",
      "36      Aluminum nitrate nonahydrate                    68.9\n",
      "44  Aluminum perchlorate nonahydrate                   182.0\n",
      "51                  Aluminum sulfate                    38.5\n",
      "52  Aluminum sulfate octadecahydrate                    38.5\n",
      "(2681, 11)\n",
      "      solubility_per_100gH2O                                     name\n",
      "1065                  1308.0                       Indium(III) iodide\n",
      "181                    987.0                   Antimony(III) chloride\n",
      "1671                   709.0  Diphosphoric acid (pyrophosphoric acid)\n",
      "590                    573.0                          Cesium fluoride\n",
      "2102                   558.0        Silver(I) perchlorate monohydrate\n"
     ]
    },
    {
     "data": {
      "text/plain": [
       "count     735.000000\n",
       "mean       72.683508\n",
       "std       111.089021\n",
       "min         0.000001\n",
       "25%         1.085000\n",
       "50%        37.000000\n",
       "75%       101.000000\n",
       "max      1308.000000\n",
       "Name: solubility_per_100gH2O, dtype: float64"
      ]
     },
     "execution_count": 6,
     "metadata": {},
     "output_type": "execute_result"
    }
   ],
   "source": [
    "print(df[['name', 'solubility_per_100gH2O']][df.solubility_per_100gH2O.notnull()].head(10))\n",
    "print(df.shape)\n",
    "print(df[['solubility_per_100gH2O', 'name']].sort_values(by='solubility_per_100gH2O', ascending=False).head(5))\n",
    "df.solubility_per_100gH2O.describe()"
   ]
  },
  {
   "cell_type": "code",
   "execution_count": 7,
   "metadata": {
    "collapsed": false
   },
   "outputs": [
    {
     "data": {
      "image/png": "[encoded data removed]",
      "text/plain": [
       "<matplotlib.figure.Figure at 0x7f96c2786160>"
      ]
     },
     "metadata": {},
     "output_type": "display_data"
    }
   ],
   "source": [
    "log_bins = np.logspace(-6, 4, num=20)\n",
    "df.solubility_per_100gH2O.hist(bins=log_bins)\n",
    "plt.xscale('log')\n",
    "plt.yscale('log')\n",
    "plt.xlabel('Solubility per 100g H2O')\n",
    "plt.ylabel('Frequency')\n",
    "plt.vlines([1e-3, 1, 100], 1e-1, 1e3)\n",
    "plt.ylim([1e-1, 1e3])\n",
    "plt.text(1e-5, 1e2, 'i', fontsize=18)\n",
    "plt.text(1e-2, 1e2, 'sl', fontsize=18)\n",
    "plt.text(1e1, 1e2, 's', fontsize=18)\n",
    "plt.text(1e3, 1e2, 'vs', fontsize=18)\n",
    "plt.show()"
   ]
  },
  {
   "cell_type": "markdown",
   "metadata": {},
   "source": [
    "Qualitative solubility limits:\n",
    "* vs - very soluble - > 100g per 100g H2O\n",
    "* s - soluble - 1-100g per 100g H2O\n",
    "* sl - slightly soluble - 1e-3g - 1g per 100g H2O\n",
    "* i - insoluble - less than 1e-3g per 100g H2O"
   ]
  },
  {
   "cell_type": "markdown",
   "metadata": {},
   "source": [
    "Let's parse the qualitative solubility next. Where solubility is indicated, there is a marker (e.g. s for soluble, i for insoluble) followed by a list of solvents, then a semi-colon separator for listing other qualitative solubilities."
   ]
  },
  {
   "cell_type": "code",
   "execution_count": 8,
   "metadata": {
    "collapsed": false,
    "scrolled": true
   },
   "outputs": [
    {
     "data": {
      "text/plain": [
       "dict_keys(['H2O', 'acid', 'alk', 'EtOH', 'dil HCl', 'bz', 'tol', 'CS2', 'ctc', 'chl', 'eth', 'xyl', 'ace', 'pyr', 'os', 'peth', 'MeOH', 'py', 'et', 'ct', 'dil acid', 'conc HCl', 'hc', 'bz. tol', 'HNO3', 'diox', 'hot H2O', 'conc HNO3', 'HCl', 'alk iodide soln', 'H2O (exp)', 'NH4OH', 'conc acid', 'cold H2O', 'thf', 'hot acid', 'aqua regia', 'hot HCl', 'hot conc acid', 'KCN soln', 'conc alk', 'dil H2SO4', 'HOAc', 'CN soln', 'HF', 'dil HNO3', 'dil HF', 'hot EtOH', 'NaOH', 'dil acids', 'KCNS', 'warm acid', 'CC4l', 'dil alk', 'DMF', 'DMSO', 'sl aqua regia', 'EtOh', 'reac acid', 'H2SO4', 'of SO2 in H2O', 'HF-HNO3 mixture', 'hot conc alk', 'hot HF', 'HNO3/HF', 'eth chl', 'EtAc', 'bz chl', 'conc HF'])"
      ]
     },
     "execution_count": 8,
     "metadata": {},
     "output_type": "execute_result"
    }
   ],
   "source": [
    "def parse_qualsol(qs_str):\n",
    "    '''Parse a qualitative solubility string\n",
    "    input - qs_str (string) - qualitative solubility string\n",
    "    output - sols (dict) - dictionary with solvent as key, qualitative solubility as value\n",
    "    '''\n",
    "    sols = dict()\n",
    "    for solubility in qs_str.split(';'): # First parse each solubility classifier\n",
    "        items = solubility.strip().split(' ')\n",
    "        qs = items[0]\n",
    "        solvents = ' '.join(items[1:]).split(',')\n",
    "        for solvent in solvents: # Then add each solvent\n",
    "            # Clean up some spacing issues\n",
    "            if ('H 4' in solvent or 'H 2' in solvent): solvent = solvent.replace('H ', 'H')\n",
    "            sols[solvent.lstrip()] = qs\n",
    "    return sols\n",
    "            \n",
    "qsseries = df.qualitative_solubility[df.qualitative_solubility.notnull()].apply(parse_qualsol)\n",
    "td = dict()\n",
    "for entry in qsseries:\n",
    "    for key, value in entry.items():\n",
    "        td.setdefault(key, []).append(value)\n",
    "td.keys()\n"
   ]
  },
  {
   "cell_type": "markdown",
   "metadata": {},
   "source": [
    "Let's find the qualitative solubilities with the most entries to see whether we have enough data points to do anything useful."
   ]
  },
  {
   "cell_type": "code",
   "execution_count": 9,
   "metadata": {
    "collapsed": false
   },
   "outputs": [
    {
     "data": {
      "text/plain": [
       "[(1246, 'H2O'), (713, 'EtOH'), (233, 'acid'), (169, 'eth'), (121, 'ace')]"
      ]
     },
     "execution_count": 9,
     "metadata": {},
     "output_type": "execute_result"
    }
   ],
   "source": [
    "nEntries = []\n",
    "for key, value in td.items():\n",
    "    nEntries.append((len(value), key))\n",
    "sorted(nEntries, reverse=True)[:5]"
   ]
  },
  {
   "cell_type": "markdown",
   "metadata": {
    "collapsed": true
   },
   "source": [
    "For now, let's only look at water solubility and leave other solubility to further analysis. Let's combine all of the water solubility information we have into a useful dataframe."
   ]
  },
  {
   "cell_type": "code",
   "execution_count": null,
   "metadata": {
    "collapsed": true
   },
   "outputs": [],
   "source": [
    "class Element:\n",
    "    \n",
    "    def __init__(self, name):\n",
    "        \n",
    "        self.name = name\n",
    "        self.atomic_number = get_atomic_number(name)\n",
    "        self.row = get_row(atomic_number)\n",
    "        self.col = get_group(atomic_number)\n",
    "        \n",
    "    \n",
    "    def get_row(at_no):\n",
    "        '''Get the (visual) row for a given element's atomic number\n",
    "        input: at_no (int) - atomic number\n",
    "        output: (int) - visual row'''\n",
    "        if at_no < 3: return 1\n",
    "        if at_no < 11: return 2\n",
    "        if at_no < 19: return 3\n",
    "        if at_no < 37: return 4\n",
    "        if at_no < 55: return 5\n",
    "        if at_no < 57: return 6\n",
    "        if at_no < 72: return 9 # Lanthanides\n",
    "        if at_no < 87: return 6\n",
    "        if at_no < 89: return 7 \n",
    "        if at_no < 104: return 10 # Actinides\n",
    "        else: return 7\n",
    "    \n",
    "    def get_group(at_no):\n",
    "        '''Get the (visual) column/group for a given element atomic number\n",
    "        input: at_no (int) - atomic number\n",
    "        output: (int) - visual column/group'''\n",
    "        firsts = [1,3,11,19,37,55,87]\n",
    "        if at_no in [1, 3, 11, 19, 37, 55, 87]: return 1\n",
    "        if at_no in (firsts[1:] + 1): return 2\n",
    "        for i in range(3, 13):\n",
    "            if(at_no) in ([+ i): return i\n",
    "        group_13 = [5, 13, 31, 49, 81, 113]"
   ]
  },
  {
   "cell_type": "markdown",
   "metadata": {},
   "source": [
    "First, let's look at what types of chemicals we have."
   ]
  },
  {
   "cell_type": "code",
   "execution_count": 23,
   "metadata": {
    "collapsed": false
   },
   "outputs": [
    {
     "data": {
      "text/plain": [
       "35                          Aluminum nitrate\n",
       "36              Aluminum nitrate nonahydrate\n",
       "76               Ammonium cerium(IV) nitrate\n",
       "135                         Ammonium nitrate\n",
       "270                           Barium nitrate\n",
       "333             Beryllium nitrate trihydrate\n",
       "354             Bismuth nitrate pentahydrate\n",
       "437                          Cadmium nitrate\n",
       "438             Cadmium nitrate tetrahydrate\n",
       "495                          Calcium nitrate\n",
       "496             Calcium nitrate tetrahydrate\n",
       "573          Cerium(III) nitrate hexahydrate\n",
       "600                           Cesium nitrate\n",
       "658                    Chromium(III) nitrate\n",
       "660        Chromium(III) nitrate nonahydrate\n",
       "719                       Cobalt(II) nitrate\n",
       "720           Cobalt(II) nitrate hexahydrate\n",
       "746                      Cobalt(III) nitrate\n",
       "815                       Copper(II) nitrate\n",
       "816           Copper(II) nitrate hexahydrate\n",
       "817            Copper(II) nitrate trihydrate\n",
       "853     Dysprosium(III) nitrate pentahydrate\n",
       "865              Erbium nitrate pentahydrate\n",
       "889        Europium(III) nitrate hexahydrate\n",
       "897                         Fluorine nitrate\n",
       "912      Gadolinium(III) nitrate hexahydrate\n",
       "913     Gadolinium(III) nitrate pentahydrate\n",
       "936                     Gallium(III) nitrate\n",
       "1031                       Hydrazine nitrate\n",
       "1131                        Iron(II) nitrate\n",
       "                        ...                 \n",
       "1565                      Nickel(II) nitrate\n",
       "1566          Nickel(II) nitrate hexahydrate\n",
       "1653                   Palladium(II) nitrate\n",
       "1820                       Potassium nitrate\n",
       "1867                    Praseodymium nitrate\n",
       "1868        Praseodymium nitrate hexahydrate\n",
       "1881                          Radium nitrate\n",
       "1945                        Rubidium nitrate\n",
       "1977                   Samarium(III) nitrate\n",
       "1978       Samarium(III) nitrate hexahydrate\n",
       "1990                        Scandium nitrate\n",
       "2097                       Silver(I) nitrate\n",
       "2198                          Sodium nitrate\n",
       "2281                       Strontium nitrate\n",
       "2367                         Terbium nitrate\n",
       "2368             Terbium nitrate hexahydrate\n",
       "2390                     Thallium(I) nitrate\n",
       "2403                   Thallium(III) nitrate\n",
       "2417        Thorium(IV) nitrate tetrahydrate\n",
       "2431                         Thulium nitrate\n",
       "2432            Thulium nitrate pentahydrate\n",
       "2566                          Uranyl nitrate\n",
       "2567              Uranyl nitrate hexahydrate\n",
       "2635                  Ytterbium(III) nitrate\n",
       "2649                         Yttrium nitrate\n",
       "2650            Yttrium nitrate tetrahydrate\n",
       "2651             Yttrium nitrate hexahydrate\n",
       "2689                            Zinc nitrate\n",
       "2690                Zinc nitrate hexahydrate\n",
       "2729      Zirconium(IV) nitrate pentahydrate\n",
       "Name: name, dtype: object"
      ]
     },
     "execution_count": 23,
     "metadata": {},
     "output_type": "execute_result"
    }
   ],
   "source": [
    "df.name = df.name.str.replace('\\n', ' ')\n",
    "df[df.name.str.contains(' nitrate')].name"
   ]
  },
  {
   "cell_type": "code",
   "execution_count": null,
   "metadata": {
    "collapsed": true
   },
   "outputs": [],
   "source": []
  },
  {
   "cell_type": "markdown",
   "metadata": {},
   "source": [
    "Need to figure out a way to parse oxidation state from the name\n",
    "Need to figure out a way to combine hydrate, non-hydrate information\n",
    "Need to get group, period data for plotting"
   ]
  },
  {
   "cell_type": "markdown",
   "metadata": {},
   "source": [
    "## Plotting\n",
    "We can use the heatmap from the seaborn library to show our solubility information. This requires a little creative plotting to account for elements which have precursors with multiple oxidation states. We use a (2N, 2N) numpy ndarray to represent up to 4 possible oxidation states for each element. Then we mask over the periodic table and make some code to plot the qualitative solubility of an element belonging to a certain group of precursors (e.g. nitrates)."
   ]
  },
  {
   "cell_type": "code",
   "execution_count": 28,
   "metadata": {
    "collapsed": false
   },
   "outputs": [
    {
     "data": {
      "image/png": "[encoded data removed]",
      "text/plain": [
       "<matplotlib.figure.Figure at 0x7f96b78d1c88>"
      ]
     },
     "metadata": {},
     "output_type": "display_data"
    }
   ],
   "source": [
    "import seaborn as sns\n",
    "\n",
    "ptable = np.random.randn(20, 36)\n",
    "mask = np.zeros_like(ptable)\n",
    "mask[0:2,2:34] = True\n",
    "mask[2:4,4:24] = True\n",
    "mask[4:6,4:24] = True\n",
    "mask[10:12,4:6] = True\n",
    "mask[12:14,4:6] = True\n",
    "mask[14:16,:] = True\n",
    "mask[16:18,pd.np.r_[0:4,34:36]] = True\n",
    "mask[18:20,pd.np.r_[0:4,34:36]] = True\n",
    "with sns.axes_style(\"white\"):\n",
    "     ax = sns.heatmap(ptable, mask=mask, linecolor='k', linewidths=0.0,vmax=.3, square=True, cbar=False)\n",
    "plt.show()"
   ]
  },
  {
   "cell_type": "markdown",
   "metadata": {},
   "source": [
    "For parsing out the oxidation state and hydration state, let's make a class called element that allows us to set some parameters"
   ]
  }
 ],
 "metadata": {
  "anaconda-cloud": {},
  "kernelspec": {
   "display_name": "Python [myenv]",
   "language": "python",
   "name": "Python [myenv]"
  },
  "language_info": {
   "codemirror_mode": {
    "name": "ipython",
    "version": 3
   },
   "file_extension": ".py",
   "mimetype": "text/x-python",
   "name": "python",
   "nbconvert_exporter": "python",
   "pygments_lexer": "ipython3",
   "version": "3.6.0"
  }
 },
 "nbformat": 4,
 "nbformat_minor": 0
}
