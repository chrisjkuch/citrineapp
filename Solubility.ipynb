{
 "cells": [
  {
   "cell_type": "markdown",
   "metadata": {},
   "source": [
    "### Properties of inorganic chemical precursors\n",
    "\n",
    "This Jupyter notebook cleans data imported from the CRC Handbook of Chemistry and Physics, 85th edition related to the solubility of various compounds. It then uses information about the periodic table of the elements to attempt to learn general rules about chemical solubility."
   ]
  },
  {
   "cell_type": "code",
   "execution_count": 57,
   "metadata": {
    "collapsed": false
   },
   "outputs": [],
   "source": [
    "import pandas as pd"
   ]
  },
  {
   "cell_type": "code",
   "execution_count": 58,
   "metadata": {
    "collapsed": false
   },
   "outputs": [
    {
     "data": {
      "text/plain": [
       "(2740, 11)"
      ]
     },
     "execution_count": 58,
     "metadata": {},
     "output_type": "execute_result"
    }
   ],
   "source": [
    "colNames = ['no', 'name', 'chemical_formula', 'CAS_no', 'mol_weight', 'physical_form', 'melting_point', 'boiling point', \n",
    "            'density', 'solubility_per_100gH2O', 'qualitative_solubility', 'blanks']\n",
    "df = pd.read_csv('tabula-Inorganic_solubility_with_lines.tsv', sep='\\t', names=colNames)\n",
    "df = df.drop(labels='blanks', axis=1)\n",
    "df.shape"
   ]
  },
  {
   "cell_type": "code",
   "execution_count": 59,
   "metadata": {
    "collapsed": false
   },
   "outputs": [
    {
     "data": {
      "text/plain": [
       "(2711, 11)"
      ]
     },
     "execution_count": 59,
     "metadata": {},
     "output_type": "execute_result"
    }
   ],
   "source": [
    "# Eliminate blank lines\n",
    "df = df.dropna(axis=0, thresh=1)\n",
    "df.shape"
   ]
  },
  {
   "cell_type": "code",
   "execution_count": 60,
   "metadata": {
    "collapsed": false
   },
   "outputs": [
    {
     "name": "stdout",
     "output_type": "stream",
     "text": [
      "(2681, 11)\n",
      "        no                           name\n",
      "2735  2677              Zirconium nitride\n",
      "2736  2678            Zirconium phosphide\n",
      "2737  2679             Zirconium silicide\n",
      "2738  2680              Zirconyl chloride\n",
      "2739  2681  Zirconyl chloride octahydrate\n"
     ]
    }
   ],
   "source": [
    "# Get rid of the header line that sometimes accompanies a new page\n",
    "df = df[df.no != 'No.'] \n",
    "print(df.shape)\n",
    "print(df.iloc[:,:2].tail(5))"
   ]
  },
  {
   "cell_type": "markdown",
   "metadata": {
    "collapsed": true
   },
   "source": [
    "More cleaning required - some of the reference footnotes in the solubility column have been read in as actual numbers! Let's make a function that tries to eliminate 2 significant digits from the end of the number and see whether the result is zero. If it is, we'll assume that the number had no footnote; if it's not, we'll just use that number."
   ]
  },
  {
   "cell_type": "code",
   "execution_count": 61,
   "metadata": {
    "collapsed": false,
    "scrolled": true
   },
   "outputs": [],
   "source": [
    "def clean_solubility_references(sol_str):\n",
    "    ''' Clean reference superscript numbers from solubility values\n",
    "    Attempts to clean the solubility string sol_str by removing the last two characters, \n",
    "    comparing the resulting number to zero.\n",
    "        \n",
    "    sol_str - string to be cleaned\n",
    "    returns float\n",
    "    '''\n",
    "    if(len(str(sol_str)) < 3): return float(sol_str) # Don't try to convert an empty string to a float\n",
    "    stripped_number = float(str(sol_str)[:-2]) \n",
    "    if stripped_number != 0: return stripped_number\n",
    "    return float(sol_str)\n",
    "        \n",
    "df.solubility_per_100gH2O = df.solubility_per_100gH2O.apply(lambda x: clean_solubility_references(x) if(pd.notnull(x)) else x)"
   ]
  },
  {
   "cell_type": "markdown",
   "metadata": {},
   "source": [
    "Now we need to clean up the string names to make sure they all have ascii characters."
   ]
  },
  {
   "cell_type": "code",
   "execution_count": 71,
   "metadata": {
    "collapsed": false
   },
   "outputs": [
    {
     "data": {
      "text/html": [
       "<div>\n",
       "<table border=\"1\" class=\"dataframe\">\n",
       "  <thead>\n",
       "    <tr style=\"text-align: right;\">\n",
       "      <th></th>\n",
       "      <th>name</th>\n",
       "      <th>solubility_per_100gH2O</th>\n",
       "    </tr>\n",
       "  </thead>\n",
       "  <tbody>\n",
       "    <tr>\n",
       "      <th>20</th>\n",
       "      <td>Aluminum chloride</td>\n",
       "      <td>45.1</td>\n",
       "    </tr>\n",
       "    <tr>\n",
       "      <th>21</th>\n",
       "      <td>Aluminum chloride hexahydrate</td>\n",
       "      <td>45.1</td>\n",
       "    </tr>\n",
       "    <tr>\n",
       "      <th>24</th>\n",
       "      <td>Aluminum fluoride</td>\n",
       "      <td>0.5</td>\n",
       "    </tr>\n",
       "    <tr>\n",
       "      <th>25</th>\n",
       "      <td>Aluminum fluoride monohydrate</td>\n",
       "      <td>0.5</td>\n",
       "    </tr>\n",
       "    <tr>\n",
       "      <th>26</th>\n",
       "      <td>Aluminum fluoride trihydrate</td>\n",
       "      <td>0.5</td>\n",
       "    </tr>\n",
       "    <tr>\n",
       "      <th>35</th>\n",
       "      <td>Aluminum nitrate</td>\n",
       "      <td>68.9</td>\n",
       "    </tr>\n",
       "    <tr>\n",
       "      <th>36</th>\n",
       "      <td>Aluminum nitrate nonahydrate</td>\n",
       "      <td>68.9</td>\n",
       "    </tr>\n",
       "    <tr>\n",
       "      <th>44</th>\n",
       "      <td>Aluminum perchlorate nonahydrate</td>\n",
       "      <td>182.0</td>\n",
       "    </tr>\n",
       "    <tr>\n",
       "      <th>51</th>\n",
       "      <td>Aluminum sulfate</td>\n",
       "      <td>38.5</td>\n",
       "    </tr>\n",
       "    <tr>\n",
       "      <th>52</th>\n",
       "      <td>Aluminum sulfate octadecahydrate</td>\n",
       "      <td>38.5</td>\n",
       "    </tr>\n",
       "  </tbody>\n",
       "</table>\n",
       "</div>"
      ],
      "text/plain": [
       "                                name  solubility_per_100gH2O\n",
       "20                 Aluminum chloride                    45.1\n",
       "21     Aluminum chloride hexahydrate                    45.1\n",
       "24                 Aluminum fluoride                     0.5\n",
       "25     Aluminum fluoride monohydrate                     0.5\n",
       "26      Aluminum fluoride trihydrate                     0.5\n",
       "35                  Aluminum nitrate                    68.9\n",
       "36      Aluminum nitrate nonahydrate                    68.9\n",
       "44  Aluminum perchlorate nonahydrate                   182.0\n",
       "51                  Aluminum sulfate                    38.5\n",
       "52  Aluminum sulfate octadecahydrate                    38.5"
      ]
     },
     "execution_count": 71,
     "metadata": {},
     "output_type": "execute_result"
    }
   ],
   "source": [
    "df[['name', 'solubility_per_100gH2O']][df.solubility_per_100gH2O.notnull()].head(10)"
   ]
  },
  {
   "cell_type": "code",
   "execution_count": null,
   "metadata": {
    "collapsed": true
   },
   "outputs": [],
   "source": []
  }
 ],
 "metadata": {
  "anaconda-cloud": {},
  "kernelspec": {
   "display_name": "Python [myenv]",
   "language": "python",
   "name": "Python [myenv]"
  },
  "language_info": {
   "codemirror_mode": {
    "name": "ipython",
    "version": 3
   },
   "file_extension": ".py",
   "mimetype": "text/x-python",
   "name": "python",
   "nbconvert_exporter": "python",
   "pygments_lexer": "ipython3",
   "version": "3.6.0"
  }
 },
 "nbformat": 4,
 "nbformat_minor": 0
}
